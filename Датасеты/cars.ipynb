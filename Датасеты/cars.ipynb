{
 "cells": [
  {
   "cell_type": "code",
   "execution_count": 1,
   "metadata": {},
   "outputs": [],
   "source": [
    "# Импорт всякого\n",
    "\n",
    "import os\n",
    "import pandas as pd\n",
    "import numpy as np"
   ]
  },
  {
   "cell_type": "code",
   "execution_count": 2,
   "metadata": {},
   "outputs": [],
   "source": [
    "# Загрузка\n",
    "\n",
    "PATH_2_DATA = \"Машины/downloaded/CarPrice_Assignment.csv\"\n",
    "\n",
    "cars = pd.read_csv(PATH_2_DATA)"
   ]
  },
  {
   "cell_type": "code",
   "execution_count": 3,
   "metadata": {},
   "outputs": [
    {
     "name": "stdout",
     "output_type": "stream",
     "text": [
      "   car_ID  symboling                   CarName fueltype aspiration doornumber  \\\n",
      "0       1          3        alfa-romero giulia      gas        std        two   \n",
      "1       2          3       alfa-romero stelvio      gas        std        two   \n",
      "2       3          1  alfa-romero Quadrifoglio      gas        std        two   \n",
      "3       4          2               audi 100 ls      gas        std       four   \n",
      "4       5          2                audi 100ls      gas        std       four   \n",
      "\n",
      "       carbody drivewheel enginelocation  wheelbase  carlength  carwidth  \\\n",
      "0  convertible        rwd          front       88.6      168.8      64.1   \n",
      "1  convertible        rwd          front       88.6      168.8      64.1   \n",
      "2    hatchback        rwd          front       94.5      171.2      65.5   \n",
      "3        sedan        fwd          front       99.8      176.6      66.2   \n",
      "4        sedan        4wd          front       99.4      176.6      66.4   \n",
      "\n",
      "   carheight  curbweight enginetype cylindernumber  enginesize fuelsystem  \\\n",
      "0       48.8        2548       dohc           four         130       mpfi   \n",
      "1       48.8        2548       dohc           four         130       mpfi   \n",
      "2       52.4        2823       ohcv            six         152       mpfi   \n",
      "3       54.3        2337        ohc           four         109       mpfi   \n",
      "4       54.3        2824        ohc           five         136       mpfi   \n",
      "\n",
      "   boreratio  stroke  compressionratio  horsepower  peakrpm  citympg  \\\n",
      "0       3.47    2.68               9.0         111     5000       21   \n",
      "1       3.47    2.68               9.0         111     5000       21   \n",
      "2       2.68    3.47               9.0         154     5000       19   \n",
      "3       3.19    3.40              10.0         102     5500       24   \n",
      "4       3.19    3.40               8.0         115     5500       18   \n",
      "\n",
      "   highwaympg    price  \n",
      "0          27  13495.0  \n",
      "1          27  16500.0  \n",
      "2          26  16500.0  \n",
      "3          30  13950.0  \n",
      "4          22  17450.0  \n",
      "<class 'pandas.core.frame.DataFrame'>\n",
      "RangeIndex: 205 entries, 0 to 204\n",
      "Data columns (total 26 columns):\n",
      " #   Column            Non-Null Count  Dtype  \n",
      "---  ------            --------------  -----  \n",
      " 0   car_ID            205 non-null    int64  \n",
      " 1   symboling         205 non-null    int64  \n",
      " 2   CarName           205 non-null    object \n",
      " 3   fueltype          205 non-null    object \n",
      " 4   aspiration        205 non-null    object \n",
      " 5   doornumber        205 non-null    object \n",
      " 6   carbody           205 non-null    object \n",
      " 7   drivewheel        205 non-null    object \n",
      " 8   enginelocation    205 non-null    object \n",
      " 9   wheelbase         205 non-null    float64\n",
      " 10  carlength         205 non-null    float64\n",
      " 11  carwidth          205 non-null    float64\n",
      " 12  carheight         205 non-null    float64\n",
      " 13  curbweight        205 non-null    int64  \n",
      " 14  enginetype        205 non-null    object \n",
      " 15  cylindernumber    205 non-null    object \n",
      " 16  enginesize        205 non-null    int64  \n",
      " 17  fuelsystem        205 non-null    object \n",
      " 18  boreratio         205 non-null    float64\n",
      " 19  stroke            205 non-null    float64\n",
      " 20  compressionratio  205 non-null    float64\n",
      " 21  horsepower        205 non-null    int64  \n",
      " 22  peakrpm           205 non-null    int64  \n",
      " 23  citympg           205 non-null    int64  \n",
      " 24  highwaympg        205 non-null    int64  \n",
      " 25  price             205 non-null    float64\n",
      "dtypes: float64(8), int64(8), object(10)\n",
      "memory usage: 41.8+ KB\n"
     ]
    },
    {
     "data": {
      "text/plain": [
       "Index(['car_ID', 'symboling', 'CarName', 'fueltype', 'aspiration',\n",
       "       'doornumber', 'carbody', 'drivewheel', 'enginelocation', 'wheelbase',\n",
       "       'carlength', 'carwidth', 'carheight', 'curbweight', 'enginetype',\n",
       "       'cylindernumber', 'enginesize', 'fuelsystem', 'boreratio', 'stroke',\n",
       "       'compressionratio', 'horsepower', 'peakrpm', 'citympg', 'highwaympg',\n",
       "       'price'],\n",
       "      dtype='object')"
      ]
     },
     "execution_count": 3,
     "metadata": {},
     "output_type": "execute_result"
    }
   ],
   "source": [
    "# обзор данных в консоли\n",
    "\n",
    "pd.options.display.max_columns = cars.shape[1]\n",
    "print(cars.head())\n",
    "cars.info() \n",
    "cars.columns"
   ]
  },
  {
   "cell_type": "code",
   "execution_count": 4,
   "metadata": {},
   "outputs": [
    {
     "name": "stdout",
     "output_type": "stream",
     "text": [
      "count    205.000000\n",
      "mean     103.000000\n",
      "std       59.322565\n",
      "min        1.000000\n",
      "25%       52.000000\n",
      "50%      103.000000\n",
      "75%      154.000000\n",
      "max      205.000000\n",
      "Name: car_ID, dtype: float64\n",
      "1      1\n",
      "142    1\n",
      "132    1\n",
      "133    1\n",
      "134    1\n",
      "      ..\n",
      "72     1\n",
      "73     1\n",
      "74     1\n",
      "75     1\n",
      "205    1\n",
      "Name: car_ID, Length: 205, dtype: int64\n",
      "int64\n",
      "True\n"
     ]
    }
   ],
   "source": [
    "# car_ID - уникальное поле, убираем\n",
    "\n",
    "if \"car_ID\" in cars.columns:\n",
    "\n",
    "    print(cars[\"car_ID\"].describe())\n",
    "    print(cars[\"car_ID\"].value_counts())\n",
    "    print(cars[\"car_ID\"].dtype)\n",
    "\n",
    "    print(len(set(cars[\"car_ID\"])) == len(cars[\"car_ID\"])) # проверка на уникальность\n",
    "\n",
    "    del cars[\"car_ID\"]"
   ]
  },
  {
   "cell_type": "code",
   "execution_count": 5,
   "metadata": {},
   "outputs": [
    {
     "name": "stdout",
     "output_type": "stream",
     "text": [
      "count               205\n",
      "unique              147\n",
      "top       toyota corona\n",
      "freq                  6\n",
      "Name: CarName, dtype: object\n",
      "toyota corona                   6\n",
      "toyota corolla                  6\n",
      "peugeot 504                     6\n",
      "subaru dl                       4\n",
      "mazda 626                       3\n",
      "                               ..\n",
      "volkswagen 1131 deluxe sedan    1\n",
      "buick electra 225 custom        1\n",
      "porcshce panamera               1\n",
      "Nissan versa                    1\n",
      "mitsubishi montero              1\n",
      "Name: CarName, Length: 147, dtype: int64\n",
      "object\n"
     ]
    },
    {
     "name": "stderr",
     "output_type": "stream",
     "text": [
      "E:\\Anaconda\\lib\\site-packages\\pandas\\core\\indexing.py:1637: SettingWithCopyWarning: \n",
      "A value is trying to be set on a copy of a slice from a DataFrame\n",
      "\n",
      "See the caveats in the documentation: https://pandas.pydata.org/pandas-docs/stable/user_guide/indexing.html#returning-a-view-versus-a-copy\n",
      "  self._setitem_single_block(indexer, value, name)\n"
     ]
    }
   ],
   "source": [
    "# имеет смысл оставить компанию производителя от названия в виде one-hot-encoding'а\n",
    "# интуитивно понятно, что полное название тоже влияет на цену,\n",
    "# но чтобы перевести его в цифру, нужно использовать специальные инструменты, а-ля word2vec\n",
    "\n",
    "print(cars[\"CarName\"].describe())\n",
    "print(cars[\"CarName\"].value_counts())\n",
    "print(cars[\"CarName\"].dtype)\n",
    "\n",
    "CarName = cars.loc[:, \"CarName\"]\n",
    "\n",
    "for i in range(len(CarName)):\n",
    "    CarName.iloc[i] = CarName.iloc[i].split()[0]\n",
    "\n",
    "errors = {\"maxda\" : \"mazda\",\n",
    "          \"porcshce\" : \"porsche\",\n",
    "          \"toyouta\" : \"toyota\",\n",
    "          \"vokswagen\" : \"volkswagen\",\n",
    "          \"vw\" : \"volkswagen\" }\n",
    "\n",
    "for i in range(len(CarName)):\n",
    "    name = str(CarName.iloc[i])\n",
    "\n",
    "    if name in errors:\n",
    "        CarName.iloc[i] = errors[name]\n",
    "\n",
    "def to_one_hot(df, column):\n",
    "    if column not in df.columns:\n",
    "        return\n",
    "    \n",
    "    labels = list(set(df[column]))\n",
    "\n",
    "    df[labels] = np.zeros((len(df[column]), len(labels)), dtype=np.int32)\n",
    "\n",
    "    for i in range(len(df[column])):\n",
    "        df[df[column].iloc[i]].iloc[i] = 1\n",
    "\n",
    "    del df[column]\n",
    "\n",
    "to_one_hot(cars, \"CarName\")"
   ]
  },
  {
   "cell_type": "code",
   "execution_count": 6,
   "metadata": {},
   "outputs": [
    {
     "name": "stdout",
     "output_type": "stream",
     "text": [
      "count     205\n",
      "unique      2\n",
      "top       gas\n",
      "freq      185\n",
      "Name: fueltype, dtype: object\n",
      "{'diesel', 'gas'}\n"
     ]
    }
   ],
   "source": [
    "# fueltype - категориальный признак -> 0, 1\n",
    "\n",
    "print(cars[\"fueltype\"].describe())\n",
    "print(set(cars[\"fueltype\"]))\n",
    "\n",
    "cars[\"fueltype\"] = cars[\"fueltype\"].map({'gas' : 1, 'diesel': 0})\n",
    "cars = cars.rename(columns={ \"fueltype\" : \"gas\"})"
   ]
  },
  {
   "cell_type": "code",
   "execution_count": 7,
   "metadata": {},
   "outputs": [
    {
     "name": "stdout",
     "output_type": "stream",
     "text": [
      "count     205\n",
      "unique      2\n",
      "top       std\n",
      "freq      168\n",
      "Name: aspiration, dtype: object\n",
      "{'turbo', 'std'}\n"
     ]
    }
   ],
   "source": [
    "# aspiration -> 0, 1\n",
    "\n",
    "print(cars[\"aspiration\"].describe())\n",
    "print(set(cars[\"aspiration\"]))\n",
    "\n",
    "cars[\"aspiration\"] = cars[\"aspiration\"].map({'turbo' : 1, 'std': 0})\n",
    "cars = cars.rename(columns={ \"aspiration\" : \"turbo\"})"
   ]
  },
  {
   "cell_type": "code",
   "execution_count": 8,
   "metadata": {},
   "outputs": [
    {
     "name": "stdout",
     "output_type": "stream",
     "text": [
      "count      205\n",
      "unique       2\n",
      "top       four\n",
      "freq       115\n",
      "Name: doornumber, dtype: object\n",
      "{'four', 'two'}\n"
     ]
    }
   ],
   "source": [
    "# doornumber -> 4, 2\n",
    "\n",
    "print(cars[\"doornumber\"].describe())\n",
    "print(set(cars[\"doornumber\"]))\n",
    "\n",
    "cars[\"doornumber\"] = cars[\"doornumber\"].map({'four' : 4, 'two': 2})"
   ]
  },
  {
   "cell_type": "code",
   "execution_count": 9,
   "metadata": {},
   "outputs": [
    {
     "name": "stdout",
     "output_type": "stream",
     "text": [
      "count       205\n",
      "unique        5\n",
      "top       sedan\n",
      "freq         96\n",
      "Name: carbody, dtype: object\n",
      "{'wagon', 'convertible', 'sedan', 'hardtop', 'hatchback'}\n"
     ]
    },
    {
     "name": "stderr",
     "output_type": "stream",
     "text": [
      "E:\\Anaconda\\lib\\site-packages\\pandas\\core\\indexing.py:1637: SettingWithCopyWarning: \n",
      "A value is trying to be set on a copy of a slice from a DataFrame\n",
      "\n",
      "See the caveats in the documentation: https://pandas.pydata.org/pandas-docs/stable/user_guide/indexing.html#returning-a-view-versus-a-copy\n",
      "  self._setitem_single_block(indexer, value, name)\n"
     ]
    }
   ],
   "source": [
    "# carbody\n",
    "\n",
    "print(cars[\"carbody\"].describe())\n",
    "print(set(cars[\"carbody\"]))\n",
    "\n",
    "to_one_hot(cars, \"carbody\")"
   ]
  },
  {
   "cell_type": "code",
   "execution_count": 10,
   "metadata": {},
   "outputs": [
    {
     "name": "stdout",
     "output_type": "stream",
     "text": [
      "count     205\n",
      "unique      3\n",
      "top       fwd\n",
      "freq      120\n",
      "Name: drivewheel, dtype: object\n",
      "{'fwd', 'rwd', '4wd'}\n"
     ]
    },
    {
     "name": "stderr",
     "output_type": "stream",
     "text": [
      "E:\\Anaconda\\lib\\site-packages\\pandas\\core\\indexing.py:1637: SettingWithCopyWarning: \n",
      "A value is trying to be set on a copy of a slice from a DataFrame\n",
      "\n",
      "See the caveats in the documentation: https://pandas.pydata.org/pandas-docs/stable/user_guide/indexing.html#returning-a-view-versus-a-copy\n",
      "  self._setitem_single_block(indexer, value, name)\n"
     ]
    }
   ],
   "source": [
    "# drivewheel\n",
    "\n",
    "print(cars[\"drivewheel\"].describe())\n",
    "print(set(cars[\"drivewheel\"]))\n",
    "\n",
    "to_one_hot(cars, \"drivewheel\")"
   ]
  },
  {
   "cell_type": "code",
   "execution_count": 11,
   "metadata": {},
   "outputs": [
    {
     "name": "stdout",
     "output_type": "stream",
     "text": [
      "count       205\n",
      "unique        2\n",
      "top       front\n",
      "freq        202\n",
      "Name: enginelocation, dtype: object\n",
      "{'front', 'rear'}\n"
     ]
    },
    {
     "data": {
      "text/plain": [
       "0      0\n",
       "1      0\n",
       "2      0\n",
       "3      0\n",
       "4      0\n",
       "      ..\n",
       "200    0\n",
       "201    0\n",
       "202    0\n",
       "203    0\n",
       "204    0\n",
       "Name: enginelocation, Length: 205, dtype: int64"
      ]
     },
     "execution_count": 11,
     "metadata": {},
     "output_type": "execute_result"
    }
   ],
   "source": [
    "# enginelocation\n",
    "\n",
    "print(cars[\"enginelocation\"].describe())\n",
    "print(set(cars[\"enginelocation\"]))\n",
    "\n",
    "cars[\"enginelocation\"] = cars[\"enginelocation\"].map({'rear' : 1, 'front': 0})\n",
    "cars[\"enginelocation\"]"
   ]
  },
  {
   "cell_type": "code",
   "execution_count": 12,
   "metadata": {},
   "outputs": [
    {
     "name": "stdout",
     "output_type": "stream",
     "text": [
      "count     205\n",
      "unique      7\n",
      "top       ohc\n",
      "freq      148\n",
      "Name: enginetype, dtype: object\n",
      "{'ohc', 'ohcf', 'rotor', 'l', 'dohc', 'ohcv', 'dohcv'}\n"
     ]
    },
    {
     "name": "stderr",
     "output_type": "stream",
     "text": [
      "E:\\Anaconda\\lib\\site-packages\\pandas\\core\\indexing.py:1637: SettingWithCopyWarning: \n",
      "A value is trying to be set on a copy of a slice from a DataFrame\n",
      "\n",
      "See the caveats in the documentation: https://pandas.pydata.org/pandas-docs/stable/user_guide/indexing.html#returning-a-view-versus-a-copy\n",
      "  self._setitem_single_block(indexer, value, name)\n"
     ]
    }
   ],
   "source": [
    "# enginetype - one-hot\n",
    "\n",
    "print(cars[\"enginetype\"].describe())\n",
    "print(set(cars[\"enginetype\"]))\n",
    "\n",
    "to_one_hot(cars, \"enginetype\")"
   ]
  },
  {
   "cell_type": "code",
   "execution_count": 13,
   "metadata": {},
   "outputs": [
    {
     "name": "stdout",
     "output_type": "stream",
     "text": [
      "count      205\n",
      "unique       7\n",
      "top       four\n",
      "freq       159\n",
      "Name: cylindernumber, dtype: object\n",
      "{'twelve', 'three', 'four', 'six', 'eight', 'five', 'two'}\n"
     ]
    }
   ],
   "source": [
    "# cylindernumber\n",
    "\n",
    "print(cars[\"cylindernumber\"].describe())\n",
    "print(set(cars[\"cylindernumber\"]))\n",
    "\n",
    "cars[\"cylindernumber\"] = cars[\"cylindernumber\"].map({'four' : 4, 'six': 6, 'twelve': 12, 'eight': 8, 'five': 5, 'three': 3, 'two': 2 })"
   ]
  },
  {
   "cell_type": "code",
   "execution_count": 14,
   "metadata": {},
   "outputs": [
    {
     "name": "stdout",
     "output_type": "stream",
     "text": [
      "count      205\n",
      "unique       8\n",
      "top       mpfi\n",
      "freq        94\n",
      "Name: fuelsystem, dtype: object\n",
      "{'4bbl', 'spfi', 'spdi', '2bbl', 'mpfi', '1bbl', 'mfi', 'idi'}\n"
     ]
    },
    {
     "name": "stderr",
     "output_type": "stream",
     "text": [
      "E:\\Anaconda\\lib\\site-packages\\pandas\\core\\indexing.py:1637: SettingWithCopyWarning: \n",
      "A value is trying to be set on a copy of a slice from a DataFrame\n",
      "\n",
      "See the caveats in the documentation: https://pandas.pydata.org/pandas-docs/stable/user_guide/indexing.html#returning-a-view-versus-a-copy\n",
      "  self._setitem_single_block(indexer, value, name)\n"
     ]
    }
   ],
   "source": [
    "# fuelsystem\n",
    "\n",
    "print(cars[\"fuelsystem\"].describe())\n",
    "print(set(cars[\"fuelsystem\"]))\n",
    "\n",
    "to_one_hot(cars, \"fuelsystem\")"
   ]
  },
  {
   "cell_type": "code",
   "execution_count": 15,
   "metadata": {},
   "outputs": [
    {
     "data": {
      "text/plain": [
       "{dtype('int64'), dtype('float64')}"
      ]
     },
     "execution_count": 15,
     "metadata": {},
     "output_type": "execute_result"
    }
   ],
   "source": [
    "# Проверяем, что не осталось категориальных признаков\n",
    "\n",
    "types = [None] * len(cars.columns)\n",
    "for i, column in enumerate(cars.columns):\n",
    "    types[i] = cars[column].dtype\n",
    "\n",
    "set(types)\n"
   ]
  },
  {
   "cell_type": "code",
   "execution_count": 16,
   "metadata": {},
   "outputs": [],
   "source": [
    "# Разбиваем данные на тренировочную и тестовую выборки по атрибуту price\n",
    "\n",
    "def split_data_ind(df, column, test_size = 0.1, n_splits = 10):\n",
    "    data = np.array(df[column])\n",
    "    pockets = [[]] * n_splits # карманы\n",
    "\n",
    "    Min = np.min(data)\n",
    "    Max = np.max(data)\n",
    "\n",
    "    for i in range(len(data)): # отправляем индексы по карманам\n",
    "        pockets[min(int(np.floor((data[i] - Min) / (Max - Min) * n_splits)), n_splits - 1)].append(i)\n",
    "    \n",
    "    train_ind = []\n",
    "    test_ind = []\n",
    "\n",
    "    for i in range(n_splits):\n",
    "        rand = np.random.uniform(0, 1, len(pockets[i]))\n",
    "\n",
    "        for j in range(len(pockets[i])):\n",
    "            if rand[j] <= test_size:\n",
    "                test_ind.append(pockets[i][j])\n",
    "            else:\n",
    "                train_ind.append(pockets[i][j])\n",
    "\n",
    "    return train_ind, test_ind\n",
    "\n",
    "train_ind, test_ind = split_data_ind(cars, \"price\")\n",
    "\n",
    "train_set = cars.iloc[np.random.permutation(train_ind), :]\n",
    "test_set = cars.iloc[np.random.permutation(test_ind), :]\n",
    "\n",
    "train_set.to_csv(\"Машины/prepared/train.csv\", index=False)\n",
    "test_set.to_csv(\"Машины/prepared/test.csv\", index=False)\n"
   ]
  }
 ],
 "metadata": {
  "interpreter": {
   "hash": "96eb50e1d44aed467dc8f759cb08c32fbfa9babcf79c554e2d0e5feb04653a10"
  },
  "kernelspec": {
   "display_name": "Python 3.8.8 64-bit (conda)",
   "language": "python",
   "name": "python3"
  },
  "language_info": {
   "codemirror_mode": {
    "name": "ipython",
    "version": 3
   },
   "file_extension": ".py",
   "mimetype": "text/x-python",
   "name": "python",
   "nbconvert_exporter": "python",
   "pygments_lexer": "ipython3",
   "version": "3.8.8"
  },
  "orig_nbformat": 4
 },
 "nbformat": 4,
 "nbformat_minor": 2
}
